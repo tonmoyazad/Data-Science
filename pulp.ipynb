{
 "cells": [
  {
   "cell_type": "code",
   "execution_count": 22,
   "id": "803d14a6",
   "metadata": {},
   "outputs": [],
   "source": [
    "import pulp\n",
    "from pulp import *"
   ]
  },
  {
   "cell_type": "code",
   "execution_count": 23,
   "id": "55e58634",
   "metadata": {},
   "outputs": [],
   "source": [
    "problem = LpProblem('Car Factory', LpMaximize)\n"
   ]
  },
  {
   "cell_type": "code",
   "execution_count": 24,
   "id": "57bf1b88",
   "metadata": {},
   "outputs": [],
   "source": [
    "A = LpVariable('Car A', lowBound=0 , cat=LpInteger)\n",
    "B = LpVariable('Car B', lowBound=0 , cat=LpInteger)"
   ]
  },
  {
   "cell_type": "code",
   "execution_count": 25,
   "id": "57e75cd0",
   "metadata": {},
   "outputs": [],
   "source": [
    "#Objective Function\n",
    "problem += 20000*A + 45000*B , 'Objective Function'\n",
    "#Constraints\n",
    "problem += 4*A + 5*B <= 30 , 'Designer Constraint'\n",
    "problem += 3*A + 6*B <=30, 'Engineer Constraint'\n",
    "problem += 2*A + 7*B <=30, 'Machine Constraint'"
   ]
  },
  {
   "cell_type": "code",
   "execution_count": 27,
   "id": "6ea18c6b",
   "metadata": {
    "scrolled": true
   },
   "outputs": [
    {
     "name": "stdout",
     "output_type": "stream",
     "text": [
      "Current Status:  Not Solved\n"
     ]
    }
   ],
   "source": [
    "print(\"Current Status: \", LpStatus[problem.status])"
   ]
  },
  {
   "cell_type": "code",
   "execution_count": 28,
   "id": "ae9cc06f",
   "metadata": {
    "scrolled": true
   },
   "outputs": [
    {
     "name": "stdout",
     "output_type": "stream",
     "text": [
      "Number of Car A Made:  1.0\n",
      "Number of Car B Made:  4.0\n",
      "Total Profit:  200000.0\n"
     ]
    }
   ],
   "source": [
    "problem.solve()\n",
    "print(\"Number of Car A Made: \", A.varValue)\n",
    "print(\"Number of Car B Made: \", B.varValue)\n",
    "print(\"Total Profit: \", value(problem.objective))"
   ]
  },
  {
   "cell_type": "code",
   "execution_count": 29,
   "id": "dfbb11f8",
   "metadata": {
    "scrolled": true
   },
   "outputs": [
    {
     "name": "stdout",
     "output_type": "stream",
     "text": [
      "Current Status:  Optimal\n"
     ]
    }
   ],
   "source": [
    "print(\"Current Status: \", LpStatus[problem.status])"
   ]
  },
  {
   "cell_type": "code",
   "execution_count": null,
   "id": "388bb370",
   "metadata": {},
   "outputs": [],
   "source": []
  }
 ],
 "metadata": {
  "kernelspec": {
   "display_name": "Python 3 (ipykernel)",
   "language": "python",
   "name": "python3"
  },
  "language_info": {
   "codemirror_mode": {
    "name": "ipython",
    "version": 3
   },
   "file_extension": ".py",
   "mimetype": "text/x-python",
   "name": "python",
   "nbconvert_exporter": "python",
   "pygments_lexer": "ipython3",
   "version": "3.10.5"
  }
 },
 "nbformat": 4,
 "nbformat_minor": 5
}
