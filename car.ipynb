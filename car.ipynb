{
 "cells": [
  {
   "cell_type": "code",
   "execution_count": 1,
   "metadata": {},
   "outputs": [],
   "source": [
    "import numpy as np\n",
    "import pandas as pd\n",
    "import matplotlib.pyplot as plt\n",
    "from IPython.display import display\n",
    "import seaborn as sns\n",
    "\n",
    "%matplotlib inline\n",
    "\n",
    "from sklearn.model_selection import train_test_split\n",
    "from sklearn.preprocessing import StandardScaler\n",
    "from sklearn.linear_model import LinearRegression\n",
    "from sklearn import metrics"
   ]
  },
  {
   "cell_type": "markdown",
   "metadata": {},
   "source": [
    "### Importing Data in Python & Exploring it "
   ]
  },
  {
   "cell_type": "code",
   "execution_count": 2,
   "metadata": {},
   "outputs": [
    {
     "data": {
      "text/html": [
       "<div>\n",
       "<style scoped>\n",
       "    .dataframe tbody tr th:only-of-type {\n",
       "        vertical-align: middle;\n",
       "    }\n",
       "\n",
       "    .dataframe tbody tr th {\n",
       "        vertical-align: top;\n",
       "    }\n",
       "\n",
       "    .dataframe thead th {\n",
       "        text-align: right;\n",
       "    }\n",
       "</style>\n",
       "<table border=\"1\" class=\"dataframe\">\n",
       "  <thead>\n",
       "    <tr style=\"text-align: right;\">\n",
       "      <th></th>\n",
       "      <th>Price</th>\n",
       "      <th>Age</th>\n",
       "      <th>KM</th>\n",
       "      <th>Fuel</th>\n",
       "      <th>HP</th>\n",
       "      <th>MC</th>\n",
       "      <th>Color</th>\n",
       "      <th>Auto</th>\n",
       "      <th>CC</th>\n",
       "      <th>Drs</th>\n",
       "      <th>...</th>\n",
       "      <th>AC</th>\n",
       "      <th>Comp</th>\n",
       "      <th>CD</th>\n",
       "      <th>Clock</th>\n",
       "      <th>Pwin</th>\n",
       "      <th>PStr</th>\n",
       "      <th>Radio</th>\n",
       "      <th>SpM</th>\n",
       "      <th>M_Rim</th>\n",
       "      <th>Tow_Bar</th>\n",
       "    </tr>\n",
       "  </thead>\n",
       "  <tbody>\n",
       "    <tr>\n",
       "      <th>0</th>\n",
       "      <td>21000</td>\n",
       "      <td>26</td>\n",
       "      <td>31463</td>\n",
       "      <td>Petrol</td>\n",
       "      <td>195</td>\n",
       "      <td>0</td>\n",
       "      <td>Silver</td>\n",
       "      <td>0</td>\n",
       "      <td>1800</td>\n",
       "      <td>3</td>\n",
       "      <td>...</td>\n",
       "      <td>1</td>\n",
       "      <td>0</td>\n",
       "      <td>1</td>\n",
       "      <td>1</td>\n",
       "      <td>1</td>\n",
       "      <td>1</td>\n",
       "      <td>0</td>\n",
       "      <td>0</td>\n",
       "      <td>1</td>\n",
       "      <td>0</td>\n",
       "    </tr>\n",
       "    <tr>\n",
       "      <th>1</th>\n",
       "      <td>20000</td>\n",
       "      <td>23</td>\n",
       "      <td>43612</td>\n",
       "      <td>Petrol</td>\n",
       "      <td>195</td>\n",
       "      <td>0</td>\n",
       "      <td>Red</td>\n",
       "      <td>0</td>\n",
       "      <td>1800</td>\n",
       "      <td>3</td>\n",
       "      <td>...</td>\n",
       "      <td>1</td>\n",
       "      <td>1</td>\n",
       "      <td>0</td>\n",
       "      <td>1</td>\n",
       "      <td>1</td>\n",
       "      <td>1</td>\n",
       "      <td>0</td>\n",
       "      <td>1</td>\n",
       "      <td>1</td>\n",
       "      <td>0</td>\n",
       "    </tr>\n",
       "    <tr>\n",
       "      <th>2</th>\n",
       "      <td>19650</td>\n",
       "      <td>26</td>\n",
       "      <td>32191</td>\n",
       "      <td>Petrol</td>\n",
       "      <td>195</td>\n",
       "      <td>0</td>\n",
       "      <td>Red</td>\n",
       "      <td>0</td>\n",
       "      <td>1800</td>\n",
       "      <td>3</td>\n",
       "      <td>...</td>\n",
       "      <td>1</td>\n",
       "      <td>1</td>\n",
       "      <td>0</td>\n",
       "      <td>1</td>\n",
       "      <td>1</td>\n",
       "      <td>1</td>\n",
       "      <td>0</td>\n",
       "      <td>1</td>\n",
       "      <td>1</td>\n",
       "      <td>0</td>\n",
       "    </tr>\n",
       "    <tr>\n",
       "      <th>3</th>\n",
       "      <td>21550</td>\n",
       "      <td>32</td>\n",
       "      <td>23002</td>\n",
       "      <td>Petrol</td>\n",
       "      <td>195</td>\n",
       "      <td>1</td>\n",
       "      <td>Black</td>\n",
       "      <td>0</td>\n",
       "      <td>1800</td>\n",
       "      <td>3</td>\n",
       "      <td>...</td>\n",
       "      <td>1</td>\n",
       "      <td>1</td>\n",
       "      <td>1</td>\n",
       "      <td>1</td>\n",
       "      <td>1</td>\n",
       "      <td>1</td>\n",
       "      <td>0</td>\n",
       "      <td>1</td>\n",
       "      <td>1</td>\n",
       "      <td>0</td>\n",
       "    </tr>\n",
       "    <tr>\n",
       "      <th>4</th>\n",
       "      <td>22550</td>\n",
       "      <td>33</td>\n",
       "      <td>34133</td>\n",
       "      <td>Petrol</td>\n",
       "      <td>195</td>\n",
       "      <td>1</td>\n",
       "      <td>Grey</td>\n",
       "      <td>0</td>\n",
       "      <td>1800</td>\n",
       "      <td>3</td>\n",
       "      <td>...</td>\n",
       "      <td>1</td>\n",
       "      <td>1</td>\n",
       "      <td>1</td>\n",
       "      <td>1</td>\n",
       "      <td>1</td>\n",
       "      <td>1</td>\n",
       "      <td>0</td>\n",
       "      <td>1</td>\n",
       "      <td>1</td>\n",
       "      <td>0</td>\n",
       "    </tr>\n",
       "  </tbody>\n",
       "</table>\n",
       "<p>5 rows × 28 columns</p>\n",
       "</div>"
      ],
      "text/plain": [
       "   Price  Age     KM    Fuel   HP  MC   Color  Auto    CC  Drs  ...  AC  Comp  \\\n",
       "0  21000   26  31463  Petrol  195   0  Silver     0  1800    3  ...   1     0   \n",
       "1  20000   23  43612  Petrol  195   0     Red     0  1800    3  ...   1     1   \n",
       "2  19650   26  32191  Petrol  195   0     Red     0  1800    3  ...   1     1   \n",
       "3  21550   32  23002  Petrol  195   1   Black     0  1800    3  ...   1     1   \n",
       "4  22550   33  34133  Petrol  195   1    Grey     0  1800    3  ...   1     1   \n",
       "\n",
       "   CD  Clock  Pwin  PStr  Radio  SpM  M_Rim  Tow_Bar  \n",
       "0   1      1     1     1      0    0      1        0  \n",
       "1   0      1     1     1      0    1      1        0  \n",
       "2   0      1     1     1      0    1      1        0  \n",
       "3   1      1     1     1      0    1      1        0  \n",
       "4   1      1     1     1      0    1      1        0  \n",
       "\n",
       "[5 rows x 28 columns]"
      ]
     },
     "execution_count": 2,
     "metadata": {},
     "output_type": "execute_result"
    }
   ],
   "source": [
    "data = pd.read_excel(\"cars_Data_full.xlsx\",keep_default_na=False)\n",
    "\n",
    "#display(data.head(4).transpose())\n",
    "#display(data.tail(3).transpose())\n",
    "data.head()"
   ]
  },
  {
   "cell_type": "code",
   "execution_count": 3,
   "metadata": {},
   "outputs": [
    {
     "data": {
      "text/plain": [
       "(1367, 28)"
      ]
     },
     "execution_count": 3,
     "metadata": {},
     "output_type": "execute_result"
    }
   ],
   "source": [
    "data.shape\n"
   ]
  },
  {
   "cell_type": "markdown",
   "metadata": {},
   "source": [
    "### Dataset is having 28 columns & 1367 rows"
   ]
  },
  {
   "cell_type": "code",
   "execution_count": 4,
   "metadata": {},
   "outputs": [
    {
     "data": {
      "text/plain": [
       "array(['Petrol', 'Diesel'], dtype=object)"
      ]
     },
     "execution_count": 4,
     "metadata": {},
     "output_type": "execute_result"
    }
   ],
   "source": [
    "data.Fuel.unique()"
   ]
  },
  {
   "cell_type": "markdown",
   "metadata": {},
   "source": [
    "## Two types of Fuel & we will be converting it integer for materical calculation\n"
   ]
  },
  {
   "cell_type": "markdown",
   "metadata": {},
   "source": [
    "### All Columns list "
   ]
  },
  {
   "cell_type": "code",
   "execution_count": 5,
   "metadata": {},
   "outputs": [
    {
     "data": {
      "text/plain": [
       "Index(['Price', 'Age', 'KM', 'Fuel', 'HP', 'MC', 'Color', 'Auto', 'CC', 'Drs',\n",
       "       'Cyl', 'Grs', 'Wght', 'G_P', 'Mfr_G', 'ABS', 'Abag_1', 'Abag_2', 'AC',\n",
       "       'Comp', 'CD', 'Clock', 'Pwin', 'PStr', 'Radio', 'SpM', 'M_Rim',\n",
       "       'Tow_Bar'],\n",
       "      dtype='object')"
      ]
     },
     "execution_count": 5,
     "metadata": {},
     "output_type": "execute_result"
    }
   ],
   "source": [
    "data.columns"
   ]
  },
  {
   "cell_type": "code",
   "execution_count": 6,
   "metadata": {},
   "outputs": [
    {
     "data": {
      "text/html": [
       "<div>\n",
       "<style scoped>\n",
       "    .dataframe tbody tr th:only-of-type {\n",
       "        vertical-align: middle;\n",
       "    }\n",
       "\n",
       "    .dataframe tbody tr th {\n",
       "        vertical-align: top;\n",
       "    }\n",
       "\n",
       "    .dataframe thead th {\n",
       "        text-align: right;\n",
       "    }\n",
       "</style>\n",
       "<table border=\"1\" class=\"dataframe\">\n",
       "  <thead>\n",
       "    <tr style=\"text-align: right;\">\n",
       "      <th></th>\n",
       "      <th>Price</th>\n",
       "      <th>Age</th>\n",
       "      <th>KM</th>\n",
       "      <th>HP</th>\n",
       "      <th>MC</th>\n",
       "      <th>Auto</th>\n",
       "      <th>CC</th>\n",
       "      <th>Drs</th>\n",
       "      <th>Cyl</th>\n",
       "      <th>Grs</th>\n",
       "      <th>...</th>\n",
       "      <th>AC</th>\n",
       "      <th>Comp</th>\n",
       "      <th>CD</th>\n",
       "      <th>Clock</th>\n",
       "      <th>Pwin</th>\n",
       "      <th>PStr</th>\n",
       "      <th>Radio</th>\n",
       "      <th>SpM</th>\n",
       "      <th>M_Rim</th>\n",
       "      <th>Tow_Bar</th>\n",
       "    </tr>\n",
       "  </thead>\n",
       "  <tbody>\n",
       "    <tr>\n",
       "      <th>count</th>\n",
       "      <td>1367.000000</td>\n",
       "      <td>1367.000000</td>\n",
       "      <td>1367.000000</td>\n",
       "      <td>1367.000000</td>\n",
       "      <td>1367.000000</td>\n",
       "      <td>1367.000000</td>\n",
       "      <td>1367.000000</td>\n",
       "      <td>1367.000000</td>\n",
       "      <td>1367.0</td>\n",
       "      <td>1367.000000</td>\n",
       "      <td>...</td>\n",
       "      <td>1367.000000</td>\n",
       "      <td>1367.000000</td>\n",
       "      <td>1367.000000</td>\n",
       "      <td>1367.000000</td>\n",
       "      <td>1367.000000</td>\n",
       "      <td>1367.000000</td>\n",
       "      <td>1367.000000</td>\n",
       "      <td>1367.000000</td>\n",
       "      <td>1367.000000</td>\n",
       "      <td>1367.000000</td>\n",
       "    </tr>\n",
       "    <tr>\n",
       "      <th>mean</th>\n",
       "      <td>10682.416971</td>\n",
       "      <td>57.656913</td>\n",
       "      <td>68605.495245</td>\n",
       "      <td>104.464521</td>\n",
       "      <td>0.671544</td>\n",
       "      <td>0.057791</td>\n",
       "      <td>1574.811266</td>\n",
       "      <td>4.036576</td>\n",
       "      <td>3.0</td>\n",
       "      <td>5.027798</td>\n",
       "      <td>...</td>\n",
       "      <td>0.055596</td>\n",
       "      <td>0.281639</td>\n",
       "      <td>0.211412</td>\n",
       "      <td>0.574250</td>\n",
       "      <td>0.555230</td>\n",
       "      <td>0.977323</td>\n",
       "      <td>0.145574</td>\n",
       "      <td>0.304316</td>\n",
       "      <td>0.199707</td>\n",
       "      <td>0.280176</td>\n",
       "    </tr>\n",
       "    <tr>\n",
       "      <th>std</th>\n",
       "      <td>3555.986256</td>\n",
       "      <td>18.043061</td>\n",
       "      <td>36797.747240</td>\n",
       "      <td>14.918030</td>\n",
       "      <td>0.469824</td>\n",
       "      <td>0.233433</td>\n",
       "      <td>432.544394</td>\n",
       "      <td>0.953598</td>\n",
       "      <td>0.0</td>\n",
       "      <td>0.181388</td>\n",
       "      <td>...</td>\n",
       "      <td>0.229224</td>\n",
       "      <td>0.449963</td>\n",
       "      <td>0.408459</td>\n",
       "      <td>0.494637</td>\n",
       "      <td>0.497122</td>\n",
       "      <td>0.148927</td>\n",
       "      <td>0.352808</td>\n",
       "      <td>0.460286</td>\n",
       "      <td>0.399927</td>\n",
       "      <td>0.449249</td>\n",
       "    </tr>\n",
       "    <tr>\n",
       "      <th>min</th>\n",
       "      <td>4400.000000</td>\n",
       "      <td>5.000000</td>\n",
       "      <td>3.000000</td>\n",
       "      <td>72.000000</td>\n",
       "      <td>0.000000</td>\n",
       "      <td>0.000000</td>\n",
       "      <td>1300.000000</td>\n",
       "      <td>2.000000</td>\n",
       "      <td>3.0</td>\n",
       "      <td>3.000000</td>\n",
       "      <td>...</td>\n",
       "      <td>0.000000</td>\n",
       "      <td>0.000000</td>\n",
       "      <td>0.000000</td>\n",
       "      <td>0.000000</td>\n",
       "      <td>0.000000</td>\n",
       "      <td>0.000000</td>\n",
       "      <td>0.000000</td>\n",
       "      <td>0.000000</td>\n",
       "      <td>0.000000</td>\n",
       "      <td>0.000000</td>\n",
       "    </tr>\n",
       "    <tr>\n",
       "      <th>25%</th>\n",
       "      <td>8500.000000</td>\n",
       "      <td>47.000000</td>\n",
       "      <td>43002.000000</td>\n",
       "      <td>89.000000</td>\n",
       "      <td>0.000000</td>\n",
       "      <td>0.000000</td>\n",
       "      <td>1400.000000</td>\n",
       "      <td>3.000000</td>\n",
       "      <td>3.0</td>\n",
       "      <td>5.000000</td>\n",
       "      <td>...</td>\n",
       "      <td>0.000000</td>\n",
       "      <td>0.000000</td>\n",
       "      <td>0.000000</td>\n",
       "      <td>0.000000</td>\n",
       "      <td>0.000000</td>\n",
       "      <td>1.000000</td>\n",
       "      <td>0.000000</td>\n",
       "      <td>0.000000</td>\n",
       "      <td>0.000000</td>\n",
       "      <td>0.000000</td>\n",
       "    </tr>\n",
       "    <tr>\n",
       "      <th>50%</th>\n",
       "      <td>9945.000000</td>\n",
       "      <td>62.000000</td>\n",
       "      <td>64002.000000</td>\n",
       "      <td>113.000000</td>\n",
       "      <td>1.000000</td>\n",
       "      <td>0.000000</td>\n",
       "      <td>1600.000000</td>\n",
       "      <td>4.000000</td>\n",
       "      <td>3.0</td>\n",
       "      <td>5.000000</td>\n",
       "      <td>...</td>\n",
       "      <td>0.000000</td>\n",
       "      <td>0.000000</td>\n",
       "      <td>0.000000</td>\n",
       "      <td>1.000000</td>\n",
       "      <td>1.000000</td>\n",
       "      <td>1.000000</td>\n",
       "      <td>0.000000</td>\n",
       "      <td>0.000000</td>\n",
       "      <td>0.000000</td>\n",
       "      <td>0.000000</td>\n",
       "    </tr>\n",
       "    <tr>\n",
       "      <th>75%</th>\n",
       "      <td>11800.000000</td>\n",
       "      <td>71.000000</td>\n",
       "      <td>87180.500000</td>\n",
       "      <td>113.000000</td>\n",
       "      <td>1.000000</td>\n",
       "      <td>0.000000</td>\n",
       "      <td>1600.000000</td>\n",
       "      <td>5.000000</td>\n",
       "      <td>3.0</td>\n",
       "      <td>5.000000</td>\n",
       "      <td>...</td>\n",
       "      <td>0.000000</td>\n",
       "      <td>1.000000</td>\n",
       "      <td>0.000000</td>\n",
       "      <td>1.000000</td>\n",
       "      <td>1.000000</td>\n",
       "      <td>1.000000</td>\n",
       "      <td>0.000000</td>\n",
       "      <td>1.000000</td>\n",
       "      <td>0.000000</td>\n",
       "      <td>1.000000</td>\n",
       "    </tr>\n",
       "    <tr>\n",
       "      <th>max</th>\n",
       "      <td>32550.000000</td>\n",
       "      <td>81.000000</td>\n",
       "      <td>232942.000000</td>\n",
       "      <td>195.000000</td>\n",
       "      <td>1.000000</td>\n",
       "      <td>1.000000</td>\n",
       "      <td>16000.000000</td>\n",
       "      <td>5.000000</td>\n",
       "      <td>3.0</td>\n",
       "      <td>6.000000</td>\n",
       "      <td>...</td>\n",
       "      <td>1.000000</td>\n",
       "      <td>1.000000</td>\n",
       "      <td>1.000000</td>\n",
       "      <td>1.000000</td>\n",
       "      <td>1.000000</td>\n",
       "      <td>1.000000</td>\n",
       "      <td>1.000000</td>\n",
       "      <td>1.000000</td>\n",
       "      <td>1.000000</td>\n",
       "      <td>1.000000</td>\n",
       "    </tr>\n",
       "  </tbody>\n",
       "</table>\n",
       "<p>8 rows × 26 columns</p>\n",
       "</div>"
      ],
      "text/plain": [
       "              Price          Age             KM           HP           MC  \\\n",
       "count   1367.000000  1367.000000    1367.000000  1367.000000  1367.000000   \n",
       "mean   10682.416971    57.656913   68605.495245   104.464521     0.671544   \n",
       "std     3555.986256    18.043061   36797.747240    14.918030     0.469824   \n",
       "min     4400.000000     5.000000       3.000000    72.000000     0.000000   \n",
       "25%     8500.000000    47.000000   43002.000000    89.000000     0.000000   \n",
       "50%     9945.000000    62.000000   64002.000000   113.000000     1.000000   \n",
       "75%    11800.000000    71.000000   87180.500000   113.000000     1.000000   \n",
       "max    32550.000000    81.000000  232942.000000   195.000000     1.000000   \n",
       "\n",
       "              Auto            CC          Drs     Cyl          Grs  ...  \\\n",
       "count  1367.000000   1367.000000  1367.000000  1367.0  1367.000000  ...   \n",
       "mean      0.057791   1574.811266     4.036576     3.0     5.027798  ...   \n",
       "std       0.233433    432.544394     0.953598     0.0     0.181388  ...   \n",
       "min       0.000000   1300.000000     2.000000     3.0     3.000000  ...   \n",
       "25%       0.000000   1400.000000     3.000000     3.0     5.000000  ...   \n",
       "50%       0.000000   1600.000000     4.000000     3.0     5.000000  ...   \n",
       "75%       0.000000   1600.000000     5.000000     3.0     5.000000  ...   \n",
       "max       1.000000  16000.000000     5.000000     3.0     6.000000  ...   \n",
       "\n",
       "                AC         Comp           CD        Clock         Pwin  \\\n",
       "count  1367.000000  1367.000000  1367.000000  1367.000000  1367.000000   \n",
       "mean      0.055596     0.281639     0.211412     0.574250     0.555230   \n",
       "std       0.229224     0.449963     0.408459     0.494637     0.497122   \n",
       "min       0.000000     0.000000     0.000000     0.000000     0.000000   \n",
       "25%       0.000000     0.000000     0.000000     0.000000     0.000000   \n",
       "50%       0.000000     0.000000     0.000000     1.000000     1.000000   \n",
       "75%       0.000000     1.000000     0.000000     1.000000     1.000000   \n",
       "max       1.000000     1.000000     1.000000     1.000000     1.000000   \n",
       "\n",
       "              PStr        Radio          SpM        M_Rim      Tow_Bar  \n",
       "count  1367.000000  1367.000000  1367.000000  1367.000000  1367.000000  \n",
       "mean      0.977323     0.145574     0.304316     0.199707     0.280176  \n",
       "std       0.148927     0.352808     0.460286     0.399927     0.449249  \n",
       "min       0.000000     0.000000     0.000000     0.000000     0.000000  \n",
       "25%       1.000000     0.000000     0.000000     0.000000     0.000000  \n",
       "50%       1.000000     0.000000     0.000000     0.000000     0.000000  \n",
       "75%       1.000000     0.000000     1.000000     0.000000     1.000000  \n",
       "max       1.000000     1.000000     1.000000     1.000000     1.000000  \n",
       "\n",
       "[8 rows x 26 columns]"
      ]
     },
     "execution_count": 6,
     "metadata": {},
     "output_type": "execute_result"
    }
   ],
   "source": [
    "data.describe()"
   ]
  },
  {
   "cell_type": "markdown",
   "metadata": {},
   "source": [
    "## Coverting colors in numerical value"
   ]
  },
  {
   "cell_type": "code",
   "execution_count": 3,
   "metadata": {},
   "outputs": [],
   "source": [
    "data.Color.unique()\n",
    "data.replace({'Color':{'Silver': 0, 'Red':1,\n",
    "'Black': 2, 'Grey':3,\n",
    "'Blue': 4, 'Green':5,\n",
    "'White': 6, 'Yellow':7 }}, inplace=True)"
   ]
  },
  {
   "cell_type": "code",
   "execution_count": 4,
   "metadata": {},
   "outputs": [
    {
     "data": {
      "text/html": [
       "<div>\n",
       "<style scoped>\n",
       "    .dataframe tbody tr th:only-of-type {\n",
       "        vertical-align: middle;\n",
       "    }\n",
       "\n",
       "    .dataframe tbody tr th {\n",
       "        vertical-align: top;\n",
       "    }\n",
       "\n",
       "    .dataframe thead th {\n",
       "        text-align: right;\n",
       "    }\n",
       "</style>\n",
       "<table border=\"1\" class=\"dataframe\">\n",
       "  <thead>\n",
       "    <tr style=\"text-align: right;\">\n",
       "      <th></th>\n",
       "      <th>Price</th>\n",
       "      <th>Age</th>\n",
       "      <th>KM</th>\n",
       "      <th>Fuel</th>\n",
       "      <th>HP</th>\n",
       "      <th>Color</th>\n",
       "      <th>CC</th>\n",
       "      <th>Wght</th>\n",
       "      <th>AC</th>\n",
       "      <th>Comp</th>\n",
       "    </tr>\n",
       "  </thead>\n",
       "  <tbody>\n",
       "    <tr>\n",
       "      <th>0</th>\n",
       "      <td>21000</td>\n",
       "      <td>26</td>\n",
       "      <td>31463</td>\n",
       "      <td>Petrol</td>\n",
       "      <td>195</td>\n",
       "      <td>Silver</td>\n",
       "      <td>1800</td>\n",
       "      <td>1189</td>\n",
       "      <td>1</td>\n",
       "      <td>0</td>\n",
       "    </tr>\n",
       "    <tr>\n",
       "      <th>1</th>\n",
       "      <td>20000</td>\n",
       "      <td>23</td>\n",
       "      <td>43612</td>\n",
       "      <td>Petrol</td>\n",
       "      <td>195</td>\n",
       "      <td>Red</td>\n",
       "      <td>1800</td>\n",
       "      <td>1189</td>\n",
       "      <td>1</td>\n",
       "      <td>1</td>\n",
       "    </tr>\n",
       "    <tr>\n",
       "      <th>2</th>\n",
       "      <td>19650</td>\n",
       "      <td>26</td>\n",
       "      <td>32191</td>\n",
       "      <td>Petrol</td>\n",
       "      <td>195</td>\n",
       "      <td>Red</td>\n",
       "      <td>1800</td>\n",
       "      <td>1189</td>\n",
       "      <td>1</td>\n",
       "      <td>1</td>\n",
       "    </tr>\n",
       "    <tr>\n",
       "      <th>3</th>\n",
       "      <td>21550</td>\n",
       "      <td>32</td>\n",
       "      <td>23002</td>\n",
       "      <td>Petrol</td>\n",
       "      <td>195</td>\n",
       "      <td>Black</td>\n",
       "      <td>1800</td>\n",
       "      <td>1189</td>\n",
       "      <td>1</td>\n",
       "      <td>1</td>\n",
       "    </tr>\n",
       "    <tr>\n",
       "      <th>4</th>\n",
       "      <td>22550</td>\n",
       "      <td>33</td>\n",
       "      <td>34133</td>\n",
       "      <td>Petrol</td>\n",
       "      <td>195</td>\n",
       "      <td>Grey</td>\n",
       "      <td>1800</td>\n",
       "      <td>1189</td>\n",
       "      <td>1</td>\n",
       "      <td>1</td>\n",
       "    </tr>\n",
       "    <tr>\n",
       "      <th>...</th>\n",
       "      <td>...</td>\n",
       "      <td>...</td>\n",
       "      <td>...</td>\n",
       "      <td>...</td>\n",
       "      <td>...</td>\n",
       "      <td>...</td>\n",
       "      <td>...</td>\n",
       "      <td>...</td>\n",
       "      <td>...</td>\n",
       "      <td>...</td>\n",
       "    </tr>\n",
       "    <tr>\n",
       "      <th>1362</th>\n",
       "      <td>7550</td>\n",
       "      <td>70</td>\n",
       "      <td>20546</td>\n",
       "      <td>Petrol</td>\n",
       "      <td>89</td>\n",
       "      <td>Blue</td>\n",
       "      <td>1300</td>\n",
       "      <td>1029</td>\n",
       "      <td>0</td>\n",
       "      <td>0</td>\n",
       "    </tr>\n",
       "    <tr>\n",
       "      <th>1363</th>\n",
       "      <td>10895</td>\n",
       "      <td>73</td>\n",
       "      <td>19002</td>\n",
       "      <td>Petrol</td>\n",
       "      <td>89</td>\n",
       "      <td>Grey</td>\n",
       "      <td>1300</td>\n",
       "      <td>1019</td>\n",
       "      <td>0</td>\n",
       "      <td>0</td>\n",
       "    </tr>\n",
       "    <tr>\n",
       "      <th>1364</th>\n",
       "      <td>8550</td>\n",
       "      <td>72</td>\n",
       "      <td>17018</td>\n",
       "      <td>Petrol</td>\n",
       "      <td>89</td>\n",
       "      <td>Blue</td>\n",
       "      <td>1300</td>\n",
       "      <td>1019</td>\n",
       "      <td>0</td>\n",
       "      <td>0</td>\n",
       "    </tr>\n",
       "    <tr>\n",
       "      <th>1365</th>\n",
       "      <td>7300</td>\n",
       "      <td>71</td>\n",
       "      <td>16918</td>\n",
       "      <td>Petrol</td>\n",
       "      <td>89</td>\n",
       "      <td>Grey</td>\n",
       "      <td>1300</td>\n",
       "      <td>1019</td>\n",
       "      <td>0</td>\n",
       "      <td>0</td>\n",
       "    </tr>\n",
       "    <tr>\n",
       "      <th>1366</th>\n",
       "      <td>7000</td>\n",
       "      <td>77</td>\n",
       "      <td>3</td>\n",
       "      <td>Petrol</td>\n",
       "      <td>113</td>\n",
       "      <td>Green</td>\n",
       "      <td>1600</td>\n",
       "      <td>1118</td>\n",
       "      <td>0</td>\n",
       "      <td>0</td>\n",
       "    </tr>\n",
       "  </tbody>\n",
       "</table>\n",
       "<p>1367 rows × 10 columns</p>\n",
       "</div>"
      ],
      "text/plain": [
       "      Price  Age     KM    Fuel   HP   Color    CC  Wght  AC  Comp\n",
       "0     21000   26  31463  Petrol  195  Silver  1800  1189   1     0\n",
       "1     20000   23  43612  Petrol  195     Red  1800  1189   1     1\n",
       "2     19650   26  32191  Petrol  195     Red  1800  1189   1     1\n",
       "3     21550   32  23002  Petrol  195   Black  1800  1189   1     1\n",
       "4     22550   33  34133  Petrol  195    Grey  1800  1189   1     1\n",
       "...     ...  ...    ...     ...  ...     ...   ...   ...  ..   ...\n",
       "1362   7550   70  20546  Petrol   89    Blue  1300  1029   0     0\n",
       "1363  10895   73  19002  Petrol   89    Grey  1300  1019   0     0\n",
       "1364   8550   72  17018  Petrol   89    Blue  1300  1019   0     0\n",
       "1365   7300   71  16918  Petrol   89    Grey  1300  1019   0     0\n",
       "1366   7000   77      3  Petrol  113   Green  1600  1118   0     0\n",
       "\n",
       "[1367 rows x 10 columns]"
      ]
     },
     "execution_count": 4,
     "metadata": {},
     "output_type": "execute_result"
    }
   ],
   "source": [
    "data.iloc[:,[0,1,2,3,4,6,8,12,18,19]]"
   ]
  },
  {
   "cell_type": "markdown",
   "metadata": {},
   "source": [
    "### for correlation converting Petrol to 0 and Diesel to 1 "
   ]
  },
  {
   "cell_type": "code",
   "execution_count": 4,
   "metadata": {},
   "outputs": [],
   "source": [
    "data.replace({'Fuel':{'Petrol': 0, 'Diesel':1}}, inplace=True)\n"
   ]
  },
  {
   "cell_type": "code",
   "execution_count": 10,
   "metadata": {},
   "outputs": [
    {
     "data": {
      "text/plain": [
       "Text(0.5, 1.0, 'Correlation between Columns')"
      ]
     },
     "execution_count": 10,
     "metadata": {},
     "output_type": "execute_result"
    },
    {
     "data": {
      "image/png": "[encoded data removed]",
      "text/plain": [
       "<Figure size 720x504 with 2 Axes>"
      ]
     },
     "metadata": {
      "needs_background": "light"
     },
     "output_type": "display_data"
    }
   ],
   "source": [
    "plt.figure(figsize=(10,7))\n",
    "sns.heatmap(data.iloc[:,:].corr(), annot=False)\n",
    "plt.title('Correlation between Columns')\n"
   ]
  },
  {
   "cell_type": "code",
   "execution_count": 11,
   "metadata": {},
   "outputs": [
    {
     "data": {
      "text/plain": [
       "Text(0.5, 1.0, 'Correlation between specific Columns')"
      ]
     },
     "execution_count": 11,
     "metadata": {},
     "output_type": "execute_result"
    },
    {
     "data": {
      "image/png": "[encoded data removed]",
      "text/plain": [
       "<Figure size 720x504 with 2 Axes>"
      ]
     },
     "metadata": {
      "needs_background": "light"
     },
     "output_type": "display_data"
    }
   ],
   "source": [
    "plt.figure(figsize=(10,7))\n",
    "sns.heatmap( data.iloc[:,[0,1,2,3,4,6,8,12,18,19]].corr(), annot=True)\n",
    "plt.title('Correlation between specific Columns')\n"
   ]
  },
  {
   "cell_type": "code",
   "execution_count": 25,
   "metadata": {},
   "outputs": [
    {
     "data": {
      "text/plain": [
       "<AxesSubplot: title={'center': 'Correlation between HP & Price'}, xlabel='Price', ylabel='HP'>"
      ]
     },
     "execution_count": 25,
     "metadata": {},
     "output_type": "execute_result"
    },
    {
     "data": {
      "image/png": "[encoded data removed]",
      "text/plain": [
       "<Figure size 504x360 with 1 Axes>"
      ]
     },
     "metadata": {
      "needs_background": "light"
     },
     "output_type": "display_data"
    },
    {
     "data": {
      "image/png": "[encoded data removed]",
      "text/plain": [
       "<Figure size 504x360 with 1 Axes>"
      ]
     },
     "metadata": {
      "needs_background": "light"
     },
     "output_type": "display_data"
    }
   ],
   "source": [
    "fig = plt.figure(figsize=(7,5))\n",
    "plt.title('Correlation between CC & Price')\n",
    "sns.regplot(x='Price', y='CC', data=data )\n",
    "fig = plt.figure(figsize=(7,5))\n",
    "plt.title('Correlation between HP & Price')\n",
    "sns.regplot(x='Price', y='HP', data=data )"
   ]
  },
  {
   "cell_type": "markdown",
   "metadata": {},
   "source": [
    "We just found out an Outlier & Cleaning it "
   ]
  },
  {
   "cell_type": "code",
   "execution_count": 13,
   "metadata": {},
   "outputs": [
    {
     "data": {
      "text/plain": [
       "16000"
      ]
     },
     "execution_count": 13,
     "metadata": {},
     "output_type": "execute_result"
    }
   ],
   "source": [
    "data.CC.max()   "
   ]
  },
  {
   "cell_type": "markdown",
   "metadata": {},
   "source": [
    "And it's should 1600"
   ]
  },
  {
   "cell_type": "code",
   "execution_count": 26,
   "metadata": {},
   "outputs": [
    {
     "data": {
      "text/html": [
       "<div>\n",
       "<style scoped>\n",
       "    .dataframe tbody tr th:only-of-type {\n",
       "        vertical-align: middle;\n",
       "    }\n",
       "\n",
       "    .dataframe tbody tr th {\n",
       "        vertical-align: top;\n",
       "    }\n",
       "\n",
       "    .dataframe thead th {\n",
       "        text-align: right;\n",
       "    }\n",
       "</style>\n",
       "<table border=\"1\" class=\"dataframe\">\n",
       "  <thead>\n",
       "    <tr style=\"text-align: right;\">\n",
       "      <th></th>\n",
       "      <th>Price</th>\n",
       "      <th>Age</th>\n",
       "      <th>KM</th>\n",
       "      <th>Fuel</th>\n",
       "      <th>HP</th>\n",
       "      <th>MC</th>\n",
       "      <th>Color</th>\n",
       "      <th>Auto</th>\n",
       "      <th>CC</th>\n",
       "      <th>Drs</th>\n",
       "      <th>...</th>\n",
       "      <th>AC</th>\n",
       "      <th>Comp</th>\n",
       "      <th>CD</th>\n",
       "      <th>Clock</th>\n",
       "      <th>Pwin</th>\n",
       "      <th>PStr</th>\n",
       "      <th>Radio</th>\n",
       "      <th>SpM</th>\n",
       "      <th>M_Rim</th>\n",
       "      <th>Tow_Bar</th>\n",
       "    </tr>\n",
       "  </thead>\n",
       "  <tbody>\n",
       "    <tr>\n",
       "      <th>7</th>\n",
       "      <td>18000</td>\n",
       "      <td>25</td>\n",
       "      <td>21718</td>\n",
       "      <td>0</td>\n",
       "      <td>113</td>\n",
       "      <td>1</td>\n",
       "      <td>4</td>\n",
       "      <td>0</td>\n",
       "      <td>1600</td>\n",
       "      <td>3</td>\n",
       "      <td>...</td>\n",
       "      <td>0</td>\n",
       "      <td>0</td>\n",
       "      <td>0</td>\n",
       "      <td>1</td>\n",
       "      <td>1</td>\n",
       "      <td>1</td>\n",
       "      <td>1</td>\n",
       "      <td>0</td>\n",
       "      <td>0</td>\n",
       "      <td>1</td>\n",
       "    </tr>\n",
       "    <tr>\n",
       "      <th>8</th>\n",
       "      <td>16800</td>\n",
       "      <td>25</td>\n",
       "      <td>25565</td>\n",
       "      <td>0</td>\n",
       "      <td>113</td>\n",
       "      <td>0</td>\n",
       "      <td>3</td>\n",
       "      <td>0</td>\n",
       "      <td>1600</td>\n",
       "      <td>3</td>\n",
       "      <td>...</td>\n",
       "      <td>1</td>\n",
       "      <td>1</td>\n",
       "      <td>1</td>\n",
       "      <td>1</td>\n",
       "      <td>1</td>\n",
       "      <td>1</td>\n",
       "      <td>0</td>\n",
       "      <td>0</td>\n",
       "      <td>0</td>\n",
       "      <td>0</td>\n",
       "    </tr>\n",
       "    <tr>\n",
       "      <th>9</th>\n",
       "      <td>17000</td>\n",
       "      <td>31</td>\n",
       "      <td>64361</td>\n",
       "      <td>0</td>\n",
       "      <td>113</td>\n",
       "      <td>1</td>\n",
       "      <td>3</td>\n",
       "      <td>0</td>\n",
       "      <td>1600</td>\n",
       "      <td>3</td>\n",
       "      <td>...</td>\n",
       "      <td>0</td>\n",
       "      <td>1</td>\n",
       "      <td>1</td>\n",
       "      <td>1</td>\n",
       "      <td>1</td>\n",
       "      <td>1</td>\n",
       "      <td>0</td>\n",
       "      <td>1</td>\n",
       "      <td>0</td>\n",
       "      <td>0</td>\n",
       "    </tr>\n",
       "    <tr>\n",
       "      <th>10</th>\n",
       "      <td>16000</td>\n",
       "      <td>31</td>\n",
       "      <td>67662</td>\n",
       "      <td>0</td>\n",
       "      <td>113</td>\n",
       "      <td>1</td>\n",
       "      <td>4</td>\n",
       "      <td>0</td>\n",
       "      <td>1600</td>\n",
       "      <td>3</td>\n",
       "      <td>...</td>\n",
       "      <td>0</td>\n",
       "      <td>1</td>\n",
       "      <td>1</td>\n",
       "      <td>1</td>\n",
       "      <td>1</td>\n",
       "      <td>1</td>\n",
       "      <td>0</td>\n",
       "      <td>1</td>\n",
       "      <td>0</td>\n",
       "      <td>1</td>\n",
       "    </tr>\n",
       "    <tr>\n",
       "      <th>11</th>\n",
       "      <td>17000</td>\n",
       "      <td>30</td>\n",
       "      <td>43907</td>\n",
       "      <td>0</td>\n",
       "      <td>113</td>\n",
       "      <td>0</td>\n",
       "      <td>3</td>\n",
       "      <td>1</td>\n",
       "      <td>1600</td>\n",
       "      <td>3</td>\n",
       "      <td>...</td>\n",
       "      <td>1</td>\n",
       "      <td>1</td>\n",
       "      <td>0</td>\n",
       "      <td>1</td>\n",
       "      <td>1</td>\n",
       "      <td>1</td>\n",
       "      <td>0</td>\n",
       "      <td>1</td>\n",
       "      <td>0</td>\n",
       "      <td>0</td>\n",
       "    </tr>\n",
       "    <tr>\n",
       "      <th>...</th>\n",
       "      <td>...</td>\n",
       "      <td>...</td>\n",
       "      <td>...</td>\n",
       "      <td>...</td>\n",
       "      <td>...</td>\n",
       "      <td>...</td>\n",
       "      <td>...</td>\n",
       "      <td>...</td>\n",
       "      <td>...</td>\n",
       "      <td>...</td>\n",
       "      <td>...</td>\n",
       "      <td>...</td>\n",
       "      <td>...</td>\n",
       "      <td>...</td>\n",
       "      <td>...</td>\n",
       "      <td>...</td>\n",
       "      <td>...</td>\n",
       "      <td>...</td>\n",
       "      <td>...</td>\n",
       "      <td>...</td>\n",
       "      <td>...</td>\n",
       "    </tr>\n",
       "    <tr>\n",
       "      <th>1349</th>\n",
       "      <td>8800</td>\n",
       "      <td>80</td>\n",
       "      <td>39802</td>\n",
       "      <td>0</td>\n",
       "      <td>110</td>\n",
       "      <td>0</td>\n",
       "      <td>5</td>\n",
       "      <td>1</td>\n",
       "      <td>1600</td>\n",
       "      <td>3</td>\n",
       "      <td>...</td>\n",
       "      <td>0</td>\n",
       "      <td>0</td>\n",
       "      <td>0</td>\n",
       "      <td>0</td>\n",
       "      <td>0</td>\n",
       "      <td>1</td>\n",
       "      <td>0</td>\n",
       "      <td>1</td>\n",
       "      <td>0</td>\n",
       "      <td>0</td>\n",
       "    </tr>\n",
       "    <tr>\n",
       "      <th>1351</th>\n",
       "      <td>8200</td>\n",
       "      <td>77</td>\n",
       "      <td>36539</td>\n",
       "      <td>0</td>\n",
       "      <td>113</td>\n",
       "      <td>0</td>\n",
       "      <td>1</td>\n",
       "      <td>1</td>\n",
       "      <td>1600</td>\n",
       "      <td>4</td>\n",
       "      <td>...</td>\n",
       "      <td>0</td>\n",
       "      <td>0</td>\n",
       "      <td>0</td>\n",
       "      <td>0</td>\n",
       "      <td>0</td>\n",
       "      <td>0</td>\n",
       "      <td>0</td>\n",
       "      <td>0</td>\n",
       "      <td>0</td>\n",
       "      <td>0</td>\n",
       "    </tr>\n",
       "    <tr>\n",
       "      <th>1353</th>\n",
       "      <td>7650</td>\n",
       "      <td>79</td>\n",
       "      <td>36002</td>\n",
       "      <td>0</td>\n",
       "      <td>113</td>\n",
       "      <td>1</td>\n",
       "      <td>4</td>\n",
       "      <td>0</td>\n",
       "      <td>1600</td>\n",
       "      <td>3</td>\n",
       "      <td>...</td>\n",
       "      <td>0</td>\n",
       "      <td>0</td>\n",
       "      <td>0</td>\n",
       "      <td>1</td>\n",
       "      <td>1</td>\n",
       "      <td>1</td>\n",
       "      <td>0</td>\n",
       "      <td>0</td>\n",
       "      <td>1</td>\n",
       "      <td>0</td>\n",
       "    </tr>\n",
       "    <tr>\n",
       "      <th>1357</th>\n",
       "      <td>10000</td>\n",
       "      <td>79</td>\n",
       "      <td>30966</td>\n",
       "      <td>0</td>\n",
       "      <td>113</td>\n",
       "      <td>0</td>\n",
       "      <td>0</td>\n",
       "      <td>1</td>\n",
       "      <td>1600</td>\n",
       "      <td>3</td>\n",
       "      <td>...</td>\n",
       "      <td>0</td>\n",
       "      <td>0</td>\n",
       "      <td>0</td>\n",
       "      <td>0</td>\n",
       "      <td>0</td>\n",
       "      <td>1</td>\n",
       "      <td>0</td>\n",
       "      <td>0</td>\n",
       "      <td>0</td>\n",
       "      <td>1</td>\n",
       "    </tr>\n",
       "    <tr>\n",
       "      <th>1366</th>\n",
       "      <td>7000</td>\n",
       "      <td>77</td>\n",
       "      <td>3</td>\n",
       "      <td>0</td>\n",
       "      <td>113</td>\n",
       "      <td>0</td>\n",
       "      <td>5</td>\n",
       "      <td>0</td>\n",
       "      <td>1600</td>\n",
       "      <td>5</td>\n",
       "      <td>...</td>\n",
       "      <td>0</td>\n",
       "      <td>0</td>\n",
       "      <td>0</td>\n",
       "      <td>0</td>\n",
       "      <td>0</td>\n",
       "      <td>1</td>\n",
       "      <td>0</td>\n",
       "      <td>0</td>\n",
       "      <td>0</td>\n",
       "      <td>0</td>\n",
       "    </tr>\n",
       "  </tbody>\n",
       "</table>\n",
       "<p>807 rows × 28 columns</p>\n",
       "</div>"
      ],
      "text/plain": [
       "      Price  Age     KM  Fuel   HP  MC  Color  Auto    CC  Drs  ...  AC  Comp  \\\n",
       "7     18000   25  21718     0  113   1      4     0  1600    3  ...   0     0   \n",
       "8     16800   25  25565     0  113   0      3     0  1600    3  ...   1     1   \n",
       "9     17000   31  64361     0  113   1      3     0  1600    3  ...   0     1   \n",
       "10    16000   31  67662     0  113   1      4     0  1600    3  ...   0     1   \n",
       "11    17000   30  43907     0  113   0      3     1  1600    3  ...   1     1   \n",
       "...     ...  ...    ...   ...  ...  ..    ...   ...   ...  ...  ...  ..   ...   \n",
       "1349   8800   80  39802     0  110   0      5     1  1600    3  ...   0     0   \n",
       "1351   8200   77  36539     0  113   0      1     1  1600    4  ...   0     0   \n",
       "1353   7650   79  36002     0  113   1      4     0  1600    3  ...   0     0   \n",
       "1357  10000   79  30966     0  113   0      0     1  1600    3  ...   0     0   \n",
       "1366   7000   77      3     0  113   0      5     0  1600    5  ...   0     0   \n",
       "\n",
       "      CD  Clock  Pwin  PStr  Radio  SpM  M_Rim  Tow_Bar  \n",
       "7      0      1     1     1      1    0      0        1  \n",
       "8      1      1     1     1      0    0      0        0  \n",
       "9      1      1     1     1      0    1      0        0  \n",
       "10     1      1     1     1      0    1      0        1  \n",
       "11     0      1     1     1      0    1      0        0  \n",
       "...   ..    ...   ...   ...    ...  ...    ...      ...  \n",
       "1349   0      0     0     1      0    1      0        0  \n",
       "1351   0      0     0     0      0    0      0        0  \n",
       "1353   0      1     1     1      0    0      1        0  \n",
       "1357   0      0     0     1      0    0      0        1  \n",
       "1366   0      0     0     1      0    0      0        0  \n",
       "\n",
       "[807 rows x 28 columns]"
      ]
     },
     "execution_count": 26,
     "metadata": {},
     "output_type": "execute_result"
    }
   ],
   "source": [
    "data.loc[(data['CC'] == 1600) ]\n",
    "#data.CC.unique()"
   ]
  },
  {
   "cell_type": "code",
   "execution_count": 5,
   "metadata": {},
   "outputs": [],
   "source": [
    "data.iloc[[70],[8]] = 1600"
   ]
  },
  {
   "cell_type": "code",
   "execution_count": 16,
   "metadata": {},
   "outputs": [
    {
     "data": {
      "text/plain": [
       "<AxesSubplot: title={'center': 'Correlation between CC & Price'}, xlabel='Price', ylabel='CC'>"
      ]
     },
     "execution_count": 16,
     "metadata": {},
     "output_type": "execute_result"
    },
    {
     "data": {
      "image/png": "[encoded data removed]",
      "text/plain": [
       "<Figure size 432x288 with 1 Axes>"
      ]
     },
     "metadata": {
      "needs_background": "light"
     },
     "output_type": "display_data"
    }
   ],
   "source": [
    "plt.title('Correlation between CC & Price')\n",
    "sns.regplot(x='Price', y='CC', data=data )"
   ]
  },
  {
   "cell_type": "markdown",
   "metadata": {},
   "source": [
    "Let's plot it again AGE & Price, it shows negative correlation between age & Price"
   ]
  },
  {
   "cell_type": "code",
   "execution_count": 17,
   "metadata": {},
   "outputs": [
    {
     "data": {
      "text/plain": [
       "<AxesSubplot: title={'center': 'Correlation between Age & Price'}, xlabel='Price', ylabel='Age'>"
      ]
     },
     "execution_count": 17,
     "metadata": {},
     "output_type": "execute_result"
    },
    {
     "data": {
      "image/png": "[encoded data removed]",
      "text/plain": [
       "<Figure size 504x360 with 1 Axes>"
      ]
     },
     "metadata": {
      "needs_background": "light"
     },
     "output_type": "display_data"
    }
   ],
   "source": [
    "fig = plt.figure(figsize=(7,5))\n",
    "plt.title('Correlation between Age & Price')\n",
    "sns.regplot(x='Price', y='Age', data=data )\n"
   ]
  },
  {
   "cell_type": "markdown",
   "metadata": {},
   "source": [
    "## Now are preprating the data using linear regression model "
   ]
  },
  {
   "cell_type": "code",
   "execution_count": 18,
   "metadata": {},
   "outputs": [
    {
     "name": "stdout",
     "output_type": "stream",
     "text": [
      "(1367, 27)\n",
      "(1367,)\n"
     ]
    }
   ],
   "source": [
    "#X = data.iloc[:,1:]\n",
    "X = data.drop(['Price'],axis=1)\n",
    "y = data['Price']\n",
    "print(X.shape)\n",
    "print(y.shape)\n"
   ]
  },
  {
   "cell_type": "markdown",
   "metadata": {},
   "source": [
    "### Spliting datas for Train & Test\n",
    "# X having all columns except the price \n",
    "# Y having the prices \n",
    "\n",
    "### we are spliting datas in train & test "
   ]
  },
  {
   "cell_type": "code",
   "execution_count": 8,
   "metadata": {},
   "outputs": [
    {
     "ename": "NameError",
     "evalue": "name 'X' is not defined",
     "output_type": "error",
     "traceback": [
      "\u001b[1;31m---------------------------------------------------------------------------\u001b[0m",
      "\u001b[1;31mNameError\u001b[0m                                 Traceback (most recent call last)",
      "\u001b[1;32me:\\Data Science Real World Projects in Python\\car price\\car.ipynb Cell 30\u001b[0m in \u001b[0;36m<cell line: 1>\u001b[1;34m()\u001b[0m\n\u001b[1;32m----> <a href='vscode-notebook-cell:/e%3A/Data%20Science%20Real%20World%20Projects%20in%20Python/car%20price/car.ipynb#X41sZmlsZQ%3D%3D?line=0'>1</a>\u001b[0m X_train, X_test, y_train, y_test \u001b[39m=\u001b[39m train_test_split(X,y,test_size\u001b[39m=\u001b[39m \u001b[39m.1\u001b[39m, random_state \u001b[39m=\u001b[39m \u001b[39m55\u001b[39m)\n",
      "\u001b[1;31mNameError\u001b[0m: name 'X' is not defined"
     ]
    }
   ],
   "source": [
    "X_train, X_test, y_train, y_test = train_test_split(X,y,test_size= .1, random_state = 55)\n"
   ]
  },
  {
   "cell_type": "code",
   "execution_count": 20,
   "metadata": {},
   "outputs": [],
   "source": [
    "scaler = StandardScaler()"
   ]
  },
  {
   "cell_type": "markdown",
   "metadata": {},
   "source": [
    "### We scaling the values "
   ]
  },
  {
   "cell_type": "code",
   "execution_count": 21,
   "metadata": {},
   "outputs": [],
   "source": [
    "\n",
    "X_train = scaler.fit_transform(X_train)\n",
    "X_test = scaler.transform(X_test)\n",
    "#X_train_scaled = scaler.transform(X_train)\n",
    "#X_test_scaled = scaler.transform(X_test)\n"
   ]
  },
  {
   "cell_type": "markdown",
   "metadata": {},
   "source": [
    "### Selecting the Linear Regression Model & Fitting into the model"
   ]
  },
  {
   "cell_type": "code",
   "execution_count": 22,
   "metadata": {},
   "outputs": [],
   "source": [
    "model = LinearRegression()\n"
   ]
  },
  {
   "cell_type": "code",
   "execution_count": 23,
   "metadata": {},
   "outputs": [
    {
     "data": {
      "text/html": [
       "<style>#sk-container-id-1 {color: black;background-color: white;}#sk-container-id-1 pre{padding: 0;}#sk-container-id-1 div.sk-toggleable {background-color: white;}#sk-container-id-1 label.sk-toggleable__label {cursor: pointer;display: block;width: 100%;margin-bottom: 0;padding: 0.3em;box-sizing: border-box;text-align: center;}#sk-container-id-1 label.sk-toggleable__label-arrow:before {content: \"▸\";float: left;margin-right: 0.25em;color: #696969;}#sk-container-id-1 label.sk-toggleable__label-arrow:hover:before {color: black;}#sk-container-id-1 div.sk-estimator:hover label.sk-toggleable__label-arrow:before {color: black;}#sk-container-id-1 div.sk-toggleable__content {max-height: 0;max-width: 0;overflow: hidden;text-align: left;background-color: #f0f8ff;}#sk-container-id-1 div.sk-toggleable__content pre {margin: 0.2em;color: black;border-radius: 0.25em;background-color: #f0f8ff;}#sk-container-id-1 input.sk-toggleable__control:checked~div.sk-toggleable__content {max-height: 200px;max-width: 100%;overflow: auto;}#sk-container-id-1 input.sk-toggleable__control:checked~label.sk-toggleable__label-arrow:before {content: \"▾\";}#sk-container-id-1 div.sk-estimator input.sk-toggleable__control:checked~label.sk-toggleable__label {background-color: #d4ebff;}#sk-container-id-1 div.sk-label input.sk-toggleable__control:checked~label.sk-toggleable__label {background-color: #d4ebff;}#sk-container-id-1 input.sk-hidden--visually {border: 0;clip: rect(1px 1px 1px 1px);clip: rect(1px, 1px, 1px, 1px);height: 1px;margin: -1px;overflow: hidden;padding: 0;position: absolute;width: 1px;}#sk-container-id-1 div.sk-estimator {font-family: monospace;background-color: #f0f8ff;border: 1px dotted black;border-radius: 0.25em;box-sizing: border-box;margin-bottom: 0.5em;}#sk-container-id-1 div.sk-estimator:hover {background-color: #d4ebff;}#sk-container-id-1 div.sk-parallel-item::after {content: \"\";width: 100%;border-bottom: 1px solid gray;flex-grow: 1;}#sk-container-id-1 div.sk-label:hover label.sk-toggleable__label {background-color: #d4ebff;}#sk-container-id-1 div.sk-serial::before {content: \"\";position: absolute;border-left: 1px solid gray;box-sizing: border-box;top: 0;bottom: 0;left: 50%;z-index: 0;}#sk-container-id-1 div.sk-serial {display: flex;flex-direction: column;align-items: center;background-color: white;padding-right: 0.2em;padding-left: 0.2em;position: relative;}#sk-container-id-1 div.sk-item {position: relative;z-index: 1;}#sk-container-id-1 div.sk-parallel {display: flex;align-items: stretch;justify-content: center;background-color: white;position: relative;}#sk-container-id-1 div.sk-item::before, #sk-container-id-1 div.sk-parallel-item::before {content: \"\";position: absolute;border-left: 1px solid gray;box-sizing: border-box;top: 0;bottom: 0;left: 50%;z-index: -1;}#sk-container-id-1 div.sk-parallel-item {display: flex;flex-direction: column;z-index: 1;position: relative;background-color: white;}#sk-container-id-1 div.sk-parallel-item:first-child::after {align-self: flex-end;width: 50%;}#sk-container-id-1 div.sk-parallel-item:last-child::after {align-self: flex-start;width: 50%;}#sk-container-id-1 div.sk-parallel-item:only-child::after {width: 0;}#sk-container-id-1 div.sk-dashed-wrapped {border: 1px dashed gray;margin: 0 0.4em 0.5em 0.4em;box-sizing: border-box;padding-bottom: 0.4em;background-color: white;}#sk-container-id-1 div.sk-label label {font-family: monospace;font-weight: bold;display: inline-block;line-height: 1.2em;}#sk-container-id-1 div.sk-label-container {text-align: center;}#sk-container-id-1 div.sk-container {/* jupyter's `normalize.less` sets `[hidden] { display: none; }` but bootstrap.min.css set `[hidden] { display: none !important; }` so we also need the `!important` here to be able to override the default hidden behavior on the sphinx rendered scikit-learn.org. See: https://github.com/scikit-learn/scikit-learn/issues/21755 */display: inline-block !important;position: relative;}#sk-container-id-1 div.sk-text-repr-fallback {display: none;}</style><div id=\"sk-container-id-1\" class=\"sk-top-container\"><div class=\"sk-text-repr-fallback\"><pre>LinearRegression()</pre><b>In a Jupyter environment, please rerun this cell to show the HTML representation or trust the notebook. <br />On GitHub, the HTML representation is unable to render, please try loading this page with nbviewer.org.</b></div><div class=\"sk-container\" hidden><div class=\"sk-item\"><div class=\"sk-estimator sk-toggleable\"><input class=\"sk-toggleable__control sk-hidden--visually\" id=\"sk-estimator-id-1\" type=\"checkbox\" checked><label for=\"sk-estimator-id-1\" class=\"sk-toggleable__label sk-toggleable__label-arrow\">LinearRegression</label><div class=\"sk-toggleable__content\"><pre>LinearRegression()</pre></div></div></div></div></div>"
      ],
      "text/plain": [
       "LinearRegression()"
      ]
     },
     "execution_count": 23,
     "metadata": {},
     "output_type": "execute_result"
    }
   ],
   "source": [
    "model.fit(X_train, y_train)"
   ]
  },
  {
   "cell_type": "code",
   "execution_count": 24,
   "metadata": {},
   "outputs": [],
   "source": [
    "pred = model.predict(X_test)"
   ]
  },
  {
   "cell_type": "code",
   "execution_count": 11,
   "metadata": {},
   "outputs": [],
   "source": [
    "from sklearn.metrics import mean_absolute_error, mean_squared_error, r2_score"
   ]
  },
  {
   "cell_type": "markdown",
   "metadata": {},
   "source": [
    "### Here we are checking out Lineal Regression model performance by Mean absolute error, mean squared error and R squared error"
   ]
  },
  {
   "cell_type": "code",
   "execution_count": 26,
   "metadata": {},
   "outputs": [
    {
     "name": "stdout",
     "output_type": "stream",
     "text": [
      "MAE: 786.4509505046722\n",
      "MSE: 1184599.4835632883\n",
      "R2 score: 0.8918070591349443\n"
     ]
    }
   ],
   "source": [
    "print('MAE:', (metrics.mean_absolute_error(pred,y_test)))\n",
    "print('MSE:', (metrics.mean_squared_error(pred,y_test)))\n",
    "print('R2 score:', (metrics.r2_score(pred,y_test)))\n",
    "LR_MAE=(metrics.mean_absolute_error(pred,y_test))\n",
    "LR_MSE=(metrics.mean_squared_error(pred,y_test))\n",
    "\n"
   ]
  },
  {
   "cell_type": "markdown",
   "metadata": {},
   "source": [
    "### Let's check out the acutal price & predicted price using linear regression model"
   ]
  },
  {
   "cell_type": "code",
   "execution_count": 27,
   "metadata": {},
   "outputs": [
    {
     "data": {
      "image/png": "[encoded data removed]",
      "text/plain": [
       "<Figure size 432x288 with 1 Axes>"
      ]
     },
     "metadata": {
      "needs_background": "light"
     },
     "output_type": "display_data"
    }
   ],
   "source": [
    "sns.regplot(x=pred, y=y_test)\n",
    "plt.xlabel('predicted price')\n",
    "plt.ylabel('actual Price')\n",
    "plt.title('acutal vs predicted price')\n",
    "plt.show()"
   ]
  },
  {
   "cell_type": "code",
   "execution_count": 28,
   "metadata": {},
   "outputs": [
    {
     "name": "stdout",
     "output_type": "stream",
     "text": [
      "predicted value: [12258. 10459.  8919.  9407. 13234.]\n",
      "real value: 323    10550\n",
      "391    10945\n",
      "722     9800\n",
      "720    11000\n",
      "239    13000\n",
      "Name: Price, dtype: int64\n"
     ]
    }
   ],
   "source": [
    "predictions = model.predict(X_test[:5])\n",
    "print(\"predicted value:\", predictions.round())\n",
    "print('real value:', y_test[:5])"
   ]
  },
  {
   "cell_type": "markdown",
   "metadata": {},
   "source": [
    "Predicted value : acutal value  \n",
    " \n",
    "12258 : 10550  \n",
    "10459 : 10945  \n",
    "8919  : 9800  \n",
    "9407  : 11000   \n",
    "13234 : 13000"
   ]
  },
  {
   "cell_type": "markdown",
   "metadata": {},
   "source": [
    "# Now Let's try out another model from Neural Network "
   ]
  },
  {
   "cell_type": "code",
   "execution_count": 7,
   "metadata": {},
   "outputs": [],
   "source": [
    "import tensorflow \n",
    "from keras.models import Sequential\n",
    "from keras.layers import Dense\n",
    "\n",
    "model = Sequential()"
   ]
  },
  {
   "cell_type": "code",
   "execution_count": 6,
   "metadata": {},
   "outputs": [
    {
     "ename": "NameError",
     "evalue": "name 'X' is not defined",
     "output_type": "error",
     "traceback": [
      "\u001b[1;31m---------------------------------------------------------------------------\u001b[0m",
      "\u001b[1;31mNameError\u001b[0m                                 Traceback (most recent call last)",
      "\u001b[1;32me:\\Data Science Real World Projects in Python\\car price\\car.ipynb Cell 47\u001b[0m in \u001b[0;36m<cell line: 1>\u001b[1;34m()\u001b[0m\n\u001b[1;32m----> <a href='vscode-notebook-cell:/e%3A/Data%20Science%20Real%20World%20Projects%20in%20Python/car%20price/car.ipynb#X64sZmlsZQ%3D%3D?line=0'>1</a>\u001b[0m X_train, X_test, y_train, y_test \u001b[39m=\u001b[39m train_test_split(X,y,test_size\u001b[39m=\u001b[39m \u001b[39m.1\u001b[39m, random_state \u001b[39m=\u001b[39m \u001b[39m55\u001b[39m)\n\u001b[0;32m      <a href='vscode-notebook-cell:/e%3A/Data%20Science%20Real%20World%20Projects%20in%20Python/car%20price/car.ipynb#X64sZmlsZQ%3D%3D?line=2'>3</a>\u001b[0m scaler\u001b[39m.\u001b[39mfit(X_train)\n\u001b[0;32m      <a href='vscode-notebook-cell:/e%3A/Data%20Science%20Real%20World%20Projects%20in%20Python/car%20price/car.ipynb#X64sZmlsZQ%3D%3D?line=4'>5</a>\u001b[0m X_train \u001b[39m=\u001b[39m scaler\u001b[39m.\u001b[39mfit_transform(X_train)\n",
      "\u001b[1;31mNameError\u001b[0m: name 'X' is not defined"
     ]
    }
   ],
   "source": [
    "X_train, X_test, y_train, y_test = train_test_split(X,y,test_size= .1, random_state = 55)\n",
    "\n",
    "scaler.fit(X_train)\n",
    "\n",
    "X_train = scaler.fit_transform(X_train)\n",
    "X_test = scaler.transform(X_test)\n",
    "#model.fit(X_train, y_train)\n",
    "#model.fit(X_train, y_train)\n"
   ]
  },
  {
   "cell_type": "code",
   "execution_count": 8,
   "metadata": {},
   "outputs": [
    {
     "ename": "NameError",
     "evalue": "name 'Sequential' is not defined",
     "output_type": "error",
     "traceback": [
      "\u001b[1;31m---------------------------------------------------------------------------\u001b[0m",
      "\u001b[1;31mNameError\u001b[0m                                 Traceback (most recent call last)",
      "\u001b[1;32me:\\Data Science Real World Projects in Python\\car price\\car.ipynb Cell 48\u001b[0m in \u001b[0;36m<cell line: 1>\u001b[1;34m()\u001b[0m\n\u001b[1;32m----> <a href='vscode-notebook-cell:/e%3A/Data%20Science%20Real%20World%20Projects%20in%20Python/car%20price/car.ipynb#X65sZmlsZQ%3D%3D?line=0'>1</a>\u001b[0m model \u001b[39m=\u001b[39m Sequential()\n\u001b[0;32m      <a href='vscode-notebook-cell:/e%3A/Data%20Science%20Real%20World%20Projects%20in%20Python/car%20price/car.ipynb#X65sZmlsZQ%3D%3D?line=2'>3</a>\u001b[0m \u001b[39m#experiment with deeper & wider network \u001b[39;00m\n\u001b[0;32m      <a href='vscode-notebook-cell:/e%3A/Data%20Science%20Real%20World%20Projects%20in%20Python/car%20price/car.ipynb#X65sZmlsZQ%3D%3D?line=3'>4</a>\u001b[0m model\u001b[39m.\u001b[39madd(Dense(\u001b[39m128\u001b[39m, input_dim\u001b[39m=\u001b[39m\u001b[39m27\u001b[39m, activation\u001b[39m=\u001b[39m\u001b[39m\"\u001b[39m\u001b[39mrelu\u001b[39m\u001b[39m\"\u001b[39m))\n",
      "\u001b[1;31mNameError\u001b[0m: name 'Sequential' is not defined"
     ]
    }
   ],
   "source": [
    "model = Sequential()\n",
    "\n",
    "#experiment with deeper & wider network \n",
    "model.add(Dense(128, input_dim=27, activation=\"relu\"))\n",
    "model.add(Dense(64, activation='relu'))\n",
    "\n",
    "#output layer\n",
    "model.add(Dense(1, activation = 'linear'))\n"
   ]
  },
  {
   "cell_type": "code",
   "execution_count": 35,
   "metadata": {},
   "outputs": [],
   "source": [
    "model.compile(loss='mean_squared_error', optimizer ='adam',metrics=['mae'])\n"
   ]
  },
  {
   "cell_type": "code",
   "execution_count": 36,
   "metadata": {},
   "outputs": [
    {
     "name": "stdout",
     "output_type": "stream",
     "text": [
      "Epoch 1/100\n",
      "31/31 [==============================] - 1s 12ms/step - loss: 126088136.0000 - mae: 10648.2393 - val_loss: 128105504.0000 - val_mae: 10754.1602\n",
      "Epoch 2/100\n",
      "31/31 [==============================] - 0s 4ms/step - loss: 125850072.0000 - mae: 10637.8750 - val_loss: 127713632.0000 - val_mae: 10737.3398\n",
      "Epoch 3/100\n",
      "31/31 [==============================] - 0s 4ms/step - loss: 125231560.0000 - mae: 10611.6641 - val_loss: 126731608.0000 - val_mae: 10696.8291\n",
      "Epoch 4/100\n",
      "31/31 [==============================] - 0s 4ms/step - loss: 123821792.0000 - mae: 10554.1631 - val_loss: 124692136.0000 - val_mae: 10614.1934\n",
      "Epoch 5/100\n",
      "31/31 [==============================] - 0s 4ms/step - loss: 121126824.0000 - mae: 10446.3301 - val_loss: 121109952.0000 - val_mae: 10469.9033\n",
      "Epoch 6/100\n",
      "31/31 [==============================] - 0s 4ms/step - loss: 116763528.0000 - mae: 10268.1914 - val_loss: 115539832.0000 - val_mae: 10242.8701\n",
      "Epoch 7/100\n",
      "31/31 [==============================] - 0s 4ms/step - loss: 110322160.0000 - mae: 10003.5225 - val_loss: 107726760.0000 - val_mae: 9915.5400\n",
      "Epoch 8/100\n",
      "31/31 [==============================] - 0s 4ms/step - loss: 101632792.0000 - mae: 9631.6533 - val_loss: 97648616.0000 - val_mae: 9472.9414\n",
      "Epoch 9/100\n",
      "31/31 [==============================] - 0s 4ms/step - loss: 90948824.0000 - mae: 9148.0732 - val_loss: 85525432.0000 - val_mae: 8902.3555\n",
      "Epoch 10/100\n",
      "31/31 [==============================] - 0s 4ms/step - loss: 78456504.0000 - mae: 8537.7676 - val_loss: 72530424.0000 - val_mae: 8225.6172\n",
      "Epoch 11/100\n",
      "31/31 [==============================] - 0s 4ms/step - loss: 65382304.0000 - mae: 7819.3818 - val_loss: 59019352.0000 - val_mae: 7426.2168\n",
      "Epoch 12/100\n",
      "31/31 [==============================] - 0s 4ms/step - loss: 52585032.0000 - mae: 7004.8174 - val_loss: 46589820.0000 - val_mae: 6557.7661\n",
      "Epoch 13/100\n",
      "31/31 [==============================] - 0s 4ms/step - loss: 41125496.0000 - mae: 6137.4629 - val_loss: 36136928.0000 - val_mae: 5664.0776\n",
      "Epoch 14/100\n",
      "31/31 [==============================] - 0s 5ms/step - loss: 31680360.0000 - mae: 5270.1729 - val_loss: 28094250.0000 - val_mae: 4841.8760\n",
      "Epoch 15/100\n",
      "31/31 [==============================] - 0s 4ms/step - loss: 24472834.0000 - mae: 4506.8877 - val_loss: 22097958.0000 - val_mae: 4174.5483\n",
      "Epoch 16/100\n",
      "31/31 [==============================] - 0s 4ms/step - loss: 19126066.0000 - mae: 3868.8584 - val_loss: 17792574.0000 - val_mae: 3660.6448\n",
      "Epoch 17/100\n",
      "31/31 [==============================] - 0s 4ms/step - loss: 15144824.0000 - mae: 3366.7134 - val_loss: 14634242.0000 - val_mae: 3255.6892\n",
      "Epoch 18/100\n",
      "31/31 [==============================] - 0s 5ms/step - loss: 12177140.0000 - mae: 2942.4626 - val_loss: 12225566.0000 - val_mae: 2938.7856\n",
      "Epoch 19/100\n",
      "31/31 [==============================] - 0s 6ms/step - loss: 9933503.0000 - mae: 2599.3755 - val_loss: 10427045.0000 - val_mae: 2670.2932\n",
      "Epoch 20/100\n",
      "31/31 [==============================] - 0s 7ms/step - loss: 8276836.5000 - mae: 2329.4731 - val_loss: 9094701.0000 - val_mae: 2466.3401\n",
      "Epoch 21/100\n",
      "31/31 [==============================] - 0s 6ms/step - loss: 7067202.5000 - mae: 2120.3062 - val_loss: 8062317.5000 - val_mae: 2300.8794\n",
      "Epoch 22/100\n",
      "31/31 [==============================] - 0s 5ms/step - loss: 6187318.0000 - mae: 1963.5576 - val_loss: 7278478.5000 - val_mae: 2164.0298\n",
      "Epoch 23/100\n",
      "31/31 [==============================] - 0s 4ms/step - loss: 5540827.0000 - mae: 1842.4889 - val_loss: 6693728.5000 - val_mae: 2056.3477\n",
      "Epoch 24/100\n",
      "31/31 [==============================] - 0s 4ms/step - loss: 5059166.0000 - mae: 1745.3329 - val_loss: 6212701.5000 - val_mae: 1965.3915\n",
      "Epoch 25/100\n",
      "31/31 [==============================] - 0s 6ms/step - loss: 4689882.0000 - mae: 1672.6830 - val_loss: 5825335.0000 - val_mae: 1888.2792\n",
      "Epoch 26/100\n",
      "31/31 [==============================] - 0s 4ms/step - loss: 4400474.0000 - mae: 1612.5876 - val_loss: 5499014.0000 - val_mae: 1822.5842\n",
      "Epoch 27/100\n",
      "31/31 [==============================] - 0s 5ms/step - loss: 4164478.5000 - mae: 1563.3339 - val_loss: 5228744.0000 - val_mae: 1769.9618\n",
      "Epoch 28/100\n",
      "31/31 [==============================] - 0s 4ms/step - loss: 3973777.5000 - mae: 1521.0349 - val_loss: 4992555.5000 - val_mae: 1720.2811\n",
      "Epoch 29/100\n",
      "31/31 [==============================] - 0s 4ms/step - loss: 3797691.0000 - mae: 1483.8527 - val_loss: 4784220.5000 - val_mae: 1679.5989\n",
      "Epoch 30/100\n",
      "31/31 [==============================] - 0s 4ms/step - loss: 3647093.5000 - mae: 1450.5691 - val_loss: 4604033.5000 - val_mae: 1644.1722\n",
      "Epoch 31/100\n",
      "31/31 [==============================] - 0s 4ms/step - loss: 3516253.7500 - mae: 1422.6841 - val_loss: 4425745.5000 - val_mae: 1608.8463\n",
      "Epoch 32/100\n",
      "31/31 [==============================] - 0s 4ms/step - loss: 3392753.2500 - mae: 1395.5432 - val_loss: 4269660.0000 - val_mae: 1577.7340\n",
      "Epoch 33/100\n",
      "31/31 [==============================] - 0s 4ms/step - loss: 3279089.0000 - mae: 1371.5310 - val_loss: 4133489.0000 - val_mae: 1551.3223\n",
      "Epoch 34/100\n",
      "31/31 [==============================] - 0s 4ms/step - loss: 3173255.7500 - mae: 1349.1837 - val_loss: 3999281.2500 - val_mae: 1524.9489\n",
      "Epoch 35/100\n",
      "31/31 [==============================] - 0s 4ms/step - loss: 3073601.5000 - mae: 1327.4133 - val_loss: 3876804.7500 - val_mae: 1500.9269\n",
      "Epoch 36/100\n",
      "31/31 [==============================] - 0s 6ms/step - loss: 2983940.5000 - mae: 1308.1874 - val_loss: 3757729.0000 - val_mae: 1479.0668\n",
      "Epoch 37/100\n",
      "31/31 [==============================] - 0s 8ms/step - loss: 2901903.0000 - mae: 1290.6218 - val_loss: 3643216.5000 - val_mae: 1458.6720\n",
      "Epoch 38/100\n",
      "31/31 [==============================] - 0s 5ms/step - loss: 2817782.2500 - mae: 1272.1936 - val_loss: 3551187.7500 - val_mae: 1439.5581\n",
      "Epoch 39/100\n",
      "31/31 [==============================] - 0s 9ms/step - loss: 2737515.5000 - mae: 1254.4778 - val_loss: 3452474.5000 - val_mae: 1421.0677\n",
      "Epoch 40/100\n",
      "31/31 [==============================] - 0s 7ms/step - loss: 2668823.7500 - mae: 1238.6014 - val_loss: 3364119.7500 - val_mae: 1402.4528\n",
      "Epoch 41/100\n",
      "31/31 [==============================] - 0s 4ms/step - loss: 2599686.0000 - mae: 1224.1437 - val_loss: 3268876.7500 - val_mae: 1384.7886\n",
      "Epoch 42/100\n",
      "31/31 [==============================] - 0s 4ms/step - loss: 2530381.2500 - mae: 1207.0885 - val_loss: 3186641.5000 - val_mae: 1367.7762\n",
      "Epoch 43/100\n",
      "31/31 [==============================] - 0s 4ms/step - loss: 2467671.5000 - mae: 1192.5352 - val_loss: 3115914.5000 - val_mae: 1352.1396\n",
      "Epoch 44/100\n",
      "31/31 [==============================] - 0s 4ms/step - loss: 2411628.5000 - mae: 1179.6991 - val_loss: 3038549.7500 - val_mae: 1337.4093\n",
      "Epoch 45/100\n",
      "31/31 [==============================] - 0s 4ms/step - loss: 2350250.2500 - mae: 1165.2802 - val_loss: 2970325.5000 - val_mae: 1324.8643\n",
      "Epoch 46/100\n",
      "31/31 [==============================] - 0s 4ms/step - loss: 2296544.2500 - mae: 1153.5413 - val_loss: 2906066.2500 - val_mae: 1311.0991\n",
      "Epoch 47/100\n",
      "31/31 [==============================] - 0s 4ms/step - loss: 2248710.2500 - mae: 1141.8560 - val_loss: 2837455.5000 - val_mae: 1296.7445\n",
      "Epoch 48/100\n",
      "31/31 [==============================] - 0s 4ms/step - loss: 2195709.2500 - mae: 1127.9408 - val_loss: 2779721.0000 - val_mae: 1282.5747\n",
      "Epoch 49/100\n",
      "31/31 [==============================] - 0s 4ms/step - loss: 2151226.2500 - mae: 1117.5604 - val_loss: 2720260.5000 - val_mae: 1269.9497\n",
      "Epoch 50/100\n",
      "31/31 [==============================] - 0s 4ms/step - loss: 2101453.5000 - mae: 1104.5000 - val_loss: 2667421.0000 - val_mae: 1258.0571\n",
      "Epoch 51/100\n",
      "31/31 [==============================] - 0s 5ms/step - loss: 2059304.8750 - mae: 1093.8300 - val_loss: 2614620.0000 - val_mae: 1245.8068\n",
      "Epoch 52/100\n",
      "31/31 [==============================] - 0s 6ms/step - loss: 2015507.6250 - mae: 1082.8745 - val_loss: 2568117.0000 - val_mae: 1234.3317\n",
      "Epoch 53/100\n",
      "31/31 [==============================] - 0s 4ms/step - loss: 1975354.0000 - mae: 1072.1031 - val_loss: 2521714.2500 - val_mae: 1222.5178\n",
      "Epoch 54/100\n",
      "31/31 [==============================] - 0s 6ms/step - loss: 1937376.7500 - mae: 1063.4266 - val_loss: 2475183.5000 - val_mae: 1211.9351\n",
      "Epoch 55/100\n"
     ]
    },
    {
     "name": "stdout",
     "output_type": "stream",
     "text": [
      "31/31 [==============================] - 0s 4ms/step - loss: 1902291.5000 - mae: 1053.6133 - val_loss: 2433594.0000 - val_mae: 1200.8048\n",
      "Epoch 56/100\n",
      "31/31 [==============================] - 0s 3ms/step - loss: 1866736.0000 - mae: 1044.3685 - val_loss: 2388776.2500 - val_mae: 1189.6852\n",
      "Epoch 57/100\n",
      "31/31 [==============================] - 0s 5ms/step - loss: 1834152.7500 - mae: 1036.0468 - val_loss: 2344360.5000 - val_mae: 1178.6622\n",
      "Epoch 58/100\n",
      "31/31 [==============================] - 0s 6ms/step - loss: 1801021.8750 - mae: 1027.3032 - val_loss: 2316124.0000 - val_mae: 1168.9604\n",
      "Epoch 59/100\n",
      "31/31 [==============================] - 0s 3ms/step - loss: 1768519.1250 - mae: 1018.7235 - val_loss: 2276642.7500 - val_mae: 1157.8601\n",
      "Epoch 60/100\n",
      "31/31 [==============================] - 0s 4ms/step - loss: 1738995.8750 - mae: 1010.3447 - val_loss: 2243476.2500 - val_mae: 1148.2847\n",
      "Epoch 61/100\n",
      "31/31 [==============================] - 0s 4ms/step - loss: 1709947.7500 - mae: 1002.2960 - val_loss: 2211159.0000 - val_mae: 1137.9574\n",
      "Epoch 62/100\n",
      "31/31 [==============================] - 0s 4ms/step - loss: 1684157.8750 - mae: 995.5829 - val_loss: 2177109.5000 - val_mae: 1128.6494\n",
      "Epoch 63/100\n",
      "31/31 [==============================] - 0s 3ms/step - loss: 1657392.2500 - mae: 988.5060 - val_loss: 2147374.5000 - val_mae: 1119.0798\n",
      "Epoch 64/100\n",
      "31/31 [==============================] - 0s 4ms/step - loss: 1633166.5000 - mae: 981.8010 - val_loss: 2115076.7500 - val_mae: 1109.3197\n",
      "Epoch 65/100\n",
      "31/31 [==============================] - 0s 4ms/step - loss: 1607706.7500 - mae: 974.5297 - val_loss: 2088034.0000 - val_mae: 1100.3983\n",
      "Epoch 66/100\n",
      "31/31 [==============================] - 0s 3ms/step - loss: 1582413.1250 - mae: 967.8541 - val_loss: 2064251.5000 - val_mae: 1092.9874\n",
      "Epoch 67/100\n",
      "31/31 [==============================] - 0s 4ms/step - loss: 1561674.5000 - mae: 962.1432 - val_loss: 2036391.6250 - val_mae: 1084.9626\n",
      "Epoch 68/100\n",
      "31/31 [==============================] - 0s 5ms/step - loss: 1543242.3750 - mae: 956.4490 - val_loss: 2013323.6250 - val_mae: 1077.2037\n",
      "Epoch 69/100\n",
      "31/31 [==============================] - 0s 3ms/step - loss: 1522694.3750 - mae: 950.6278 - val_loss: 1992343.7500 - val_mae: 1069.8248\n",
      "Epoch 70/100\n",
      "31/31 [==============================] - 0s 3ms/step - loss: 1500978.7500 - mae: 944.4717 - val_loss: 1968316.6250 - val_mae: 1061.7238\n",
      "Epoch 71/100\n",
      "31/31 [==============================] - 0s 3ms/step - loss: 1484712.2500 - mae: 939.3388 - val_loss: 1949045.0000 - val_mae: 1055.9020\n",
      "Epoch 72/100\n",
      "31/31 [==============================] - 0s 3ms/step - loss: 1463051.3750 - mae: 932.9956 - val_loss: 1924543.0000 - val_mae: 1047.2917\n",
      "Epoch 73/100\n",
      "31/31 [==============================] - 0s 3ms/step - loss: 1448954.7500 - mae: 929.1458 - val_loss: 1912016.0000 - val_mae: 1041.5846\n",
      "Epoch 74/100\n",
      "31/31 [==============================] - 0s 3ms/step - loss: 1428817.0000 - mae: 922.3849 - val_loss: 1891234.5000 - val_mae: 1035.8489\n",
      "Epoch 75/100\n",
      "31/31 [==============================] - 0s 3ms/step - loss: 1415192.1250 - mae: 917.8406 - val_loss: 1874073.3750 - val_mae: 1030.2178\n",
      "Epoch 76/100\n",
      "31/31 [==============================] - 0s 3ms/step - loss: 1399046.7500 - mae: 913.2167 - val_loss: 1858022.7500 - val_mae: 1026.3042\n",
      "Epoch 77/100\n",
      "31/31 [==============================] - 0s 3ms/step - loss: 1380950.3750 - mae: 907.4028 - val_loss: 1843145.8750 - val_mae: 1021.1219\n",
      "Epoch 78/100\n",
      "31/31 [==============================] - 0s 4ms/step - loss: 1371052.5000 - mae: 902.8547 - val_loss: 1828234.5000 - val_mae: 1015.4250\n",
      "Epoch 79/100\n",
      "31/31 [==============================] - 0s 4ms/step - loss: 1353287.3750 - mae: 897.6419 - val_loss: 1812002.5000 - val_mae: 1012.1649\n",
      "Epoch 80/100\n",
      "31/31 [==============================] - 0s 3ms/step - loss: 1344106.6250 - mae: 895.2103 - val_loss: 1797600.8750 - val_mae: 1007.0269\n",
      "Epoch 81/100\n",
      "31/31 [==============================] - 0s 3ms/step - loss: 1329148.7500 - mae: 890.2542 - val_loss: 1787885.3750 - val_mae: 1003.3468\n",
      "Epoch 82/100\n",
      "31/31 [==============================] - 0s 3ms/step - loss: 1316757.8750 - mae: 886.6316 - val_loss: 1775214.1250 - val_mae: 1002.5101\n",
      "Epoch 83/100\n",
      "31/31 [==============================] - 0s 3ms/step - loss: 1305634.7500 - mae: 882.6593 - val_loss: 1766133.7500 - val_mae: 999.9429\n",
      "Epoch 84/100\n",
      "31/31 [==============================] - 0s 3ms/step - loss: 1293978.0000 - mae: 878.3997 - val_loss: 1747852.6250 - val_mae: 993.0800\n",
      "Epoch 85/100\n",
      "31/31 [==============================] - 0s 3ms/step - loss: 1283254.0000 - mae: 875.8312 - val_loss: 1739835.7500 - val_mae: 992.1772\n",
      "Epoch 86/100\n",
      "31/31 [==============================] - 0s 3ms/step - loss: 1272486.2500 - mae: 871.8902 - val_loss: 1729281.8750 - val_mae: 987.9471\n",
      "Epoch 87/100\n",
      "31/31 [==============================] - 0s 6ms/step - loss: 1264314.2500 - mae: 867.9799 - val_loss: 1722108.8750 - val_mae: 986.0456\n",
      "Epoch 88/100\n",
      "31/31 [==============================] - 0s 7ms/step - loss: 1250906.5000 - mae: 864.1249 - val_loss: 1707560.2500 - val_mae: 980.8424\n",
      "Epoch 89/100\n",
      "31/31 [==============================] - 0s 5ms/step - loss: 1243568.1250 - mae: 863.1890 - val_loss: 1700597.7500 - val_mae: 978.7009\n",
      "Epoch 90/100\n",
      "31/31 [==============================] - 0s 5ms/step - loss: 1234815.6250 - mae: 858.7185 - val_loss: 1693503.8750 - val_mae: 976.6697\n",
      "Epoch 91/100\n",
      "31/31 [==============================] - 0s 8ms/step - loss: 1223657.0000 - mae: 855.4137 - val_loss: 1684589.2500 - val_mae: 977.0750\n",
      "Epoch 92/100\n",
      "31/31 [==============================] - 0s 5ms/step - loss: 1214458.6250 - mae: 851.8441 - val_loss: 1672344.7500 - val_mae: 970.9196\n",
      "Epoch 93/100\n",
      "31/31 [==============================] - 0s 4ms/step - loss: 1206472.7500 - mae: 849.6380 - val_loss: 1665437.0000 - val_mae: 970.1186\n",
      "Epoch 94/100\n",
      "31/31 [==============================] - 0s 3ms/step - loss: 1197187.7500 - mae: 846.3228 - val_loss: 1657495.5000 - val_mae: 968.3527\n",
      "Epoch 95/100\n",
      "31/31 [==============================] - 0s 3ms/step - loss: 1189198.1250 - mae: 844.2311 - val_loss: 1653544.1250 - val_mae: 967.1888\n",
      "Epoch 96/100\n",
      "31/31 [==============================] - 0s 3ms/step - loss: 1181352.8750 - mae: 840.8812 - val_loss: 1645815.3750 - val_mae: 967.3702\n",
      "Epoch 97/100\n",
      "31/31 [==============================] - 0s 3ms/step - loss: 1172191.8750 - mae: 837.7770 - val_loss: 1637394.0000 - val_mae: 963.1120\n",
      "Epoch 98/100\n",
      "31/31 [==============================] - 0s 3ms/step - loss: 1166818.0000 - mae: 835.9741 - val_loss: 1633257.2500 - val_mae: 960.8331\n",
      "Epoch 99/100\n",
      "31/31 [==============================] - 0s 3ms/step - loss: 1159117.3750 - mae: 834.1676 - val_loss: 1621031.5000 - val_mae: 957.9052\n",
      "Epoch 100/100\n",
      "31/31 [==============================] - 0s 3ms/step - loss: 1151597.0000 - mae: 829.5538 - val_loss: 1619575.2500 - val_mae: 958.0307\n"
     ]
    }
   ],
   "source": [
    "history = model.fit(X_train, y_train, validation_split=0.2, epochs=\n",
    "100)\n",
    "#model.fit(X_train, y_train)\n"
   ]
  },
  {
   "cell_type": "code",
   "execution_count": 37,
   "metadata": {},
   "outputs": [
    {
     "name": "stdout",
     "output_type": "stream",
     "text": [
      "1/1 [==============================] - 0s 136ms/step\n",
      "predicted value: [[10897.]\n",
      " [10200.]\n",
      " [ 8549.]\n",
      " [ 9540.]\n",
      " [12817.]]\n",
      "real value: 323    10550\n",
      "391    10945\n",
      "722     9800\n",
      "720    11000\n",
      "239    13000\n",
      "Name: Price, dtype: int64\n"
     ]
    }
   ],
   "source": [
    "predictions = model.predict(X_test[:5])\n",
    "print(\"predicted value:\", predictions.round())\n",
    "print('real value:', y_test[:5])"
   ]
  },
  {
   "cell_type": "markdown",
   "metadata": {},
   "source": [
    "Predicted value : acutal value  \n",
    " \n",
    "10897 : 10550  \n",
    "10200 : 10945  \n",
    "8549  : 9800  \n",
    "9540  : 11000   \n",
    "12817 : 13000"
   ]
  },
  {
   "cell_type": "code",
   "execution_count": 38,
   "metadata": {},
   "outputs": [
    {
     "name": "stdout",
     "output_type": "stream",
     "text": [
      "5/5 [==============================] - 0s 2ms/step - loss: 1196075.7500 - mae: 847.7484\n",
      "MSE for Neural Network: 1196075.75\n",
      "MAE for Neural Network: 847.7484130859375\n"
     ]
    }
   ],
   "source": [
    "mse_neural, mae_neural = model.evaluate(X_test, y_test)\n",
    "print('MSE for Neural Network:', mse_neural)\n",
    "print('MAE for Neural Network:', mae_neural)\n"
   ]
  },
  {
   "cell_type": "code",
   "execution_count": 39,
   "metadata": {},
   "outputs": [
    {
     "name": "stdout",
     "output_type": "stream",
     "text": [
      "MSE for Neural Network: 1196075.75\n",
      "MSE for Linear Regression : 1184599.4835632883\n",
      "\n",
      "MAE for Neural Network: 847.7484130859375\n",
      "MAE for Linear Regression: 786.4509505046722\n"
     ]
    }
   ],
   "source": [
    "print('MSE for Neural Network:', mse_neural)\n",
    "print('MSE for Linear Regression :',LR_MSE)\n",
    "print('')\n",
    "print('MAE for Neural Network:', mae_neural)\n",
    "print('MAE for Linear Regression:',LR_MAE)\n"
   ]
  },
  {
   "cell_type": "markdown",
   "metadata": {},
   "source": [
    "Let's run model on \n",
    "'Age', 'KM', 'Fuel', 'HP', 'Color', 'CC', 'Wght', 'AC','Comp'"
   ]
  },
  {
   "cell_type": "code",
   "execution_count": 12,
   "metadata": {},
   "outputs": [
    {
     "data": {
      "text/plain": [
       "Index(['Price', 'Age', 'KM', 'Fuel', 'HP', 'Color', 'CC', 'Wght', 'AC',\n",
       "       'Comp'],\n",
       "      dtype='object')"
      ]
     },
     "execution_count": 12,
     "metadata": {},
     "output_type": "execute_result"
    }
   ],
   "source": [
    "data.iloc[:,[0,1,2,3,4,6,8,12,18,19]].columns"
   ]
  },
  {
   "cell_type": "code",
   "execution_count": 14,
   "metadata": {},
   "outputs": [],
   "source": [
    "X = data.iloc[:,[1,2,3,4,6,8,12,18,19]]\n",
    "y = data['Price']\n",
    "\n",
    "X_train, X_test, y_train, y_test = train_test_split(X,y,test_size= .1, random_state = 55)\n",
    "scaler = StandardScaler()   \n",
    "X_train = scaler.fit_transform(X_train)\n",
    "X_test = scaler.transform(X_test)"
   ]
  },
  {
   "cell_type": "markdown",
   "metadata": {},
   "source": [
    "Linear Regression "
   ]
  },
  {
   "cell_type": "code",
   "execution_count": 19,
   "metadata": {},
   "outputs": [
    {
     "name": "stdout",
     "output_type": "stream",
     "text": [
      "MSE for Linear 1244783.566041307\n",
      "MAE for Linear 817.0531754313996\n"
     ]
    }
   ],
   "source": [
    "from sklearn import linear_model\n",
    "from sklearn.metrics import mean_absolute_error, mean_squared_error, r2_score\n",
    "lr_model = linear_model.LinearRegression()\n",
    "lr_model.fit(X_train, y_train)\n",
    "y_predict_lr = lr_model.predict(X_test)\n",
    "\n",
    "mse_lr = mean_squared_error(y_test,y_predict_lr)\n",
    "mae_lr = mean_absolute_error(y_test,y_predict_lr)\n",
    "print('MSE for Linear', mse_lr)\n",
    "print('MAE for Linear', mae_lr)\n"
   ]
  },
  {
   "cell_type": "markdown",
   "metadata": {},
   "source": [
    "Neural Network "
   ]
  },
  {
   "cell_type": "code",
   "execution_count": 20,
   "metadata": {},
   "outputs": [
    {
     "name": "stdout",
     "output_type": "stream",
     "text": [
      "5/5 [==============================] - 0s 2ms/step - loss: 128407600.0000 - mae: 10769.1914\n",
      "MSE for Neural Network: 128407600.0\n",
      "MAE for Neural Network: 10769.19140625\n"
     ]
    }
   ],
   "source": [
    "import tensorflow \n",
    "from keras.models import Sequential\n",
    "from keras.layers import Dense\n",
    "\n",
    "model = Sequential()\n",
    "\n",
    "#experiment with deeper & wider network \n",
    "model.add(Dense(128, input_dim=9, activation=\"relu\"))\n",
    "model.add(Dense(64, activation='relu'))\n",
    "\n",
    "#output layer\n",
    "model.add(Dense(1, activation = 'linear'))\n",
    "model.compile(loss='mean_squared_error', optimizer ='adam',metrics=['mae'])\n",
    "\n",
    "#history = model.fit(X_train, y_train, validation_split=0.2, epochs=\n",
    "#100)\n",
    "\n",
    "mse_neural, mae_neural = model.evaluate(X_test, y_test)\n",
    "print('MSE for Neural Network:', mse_neural)\n",
    "print('MAE for Neural Network:', mae_neural)\n"
   ]
  },
  {
   "cell_type": "code",
   "execution_count": 17,
   "metadata": {},
   "outputs": [
    {
     "name": "stdout",
     "output_type": "stream",
     "text": [
      "MSE for Neural Network: 1474304.375\n",
      "MSE for Linear Regression : 1244783.566041307\n",
      "\n",
      "MAE for Neural Network: 928.55078125\n",
      "MAE for Linear Regression: 817.0531754313996\n"
     ]
    }
   ],
   "source": [
    "print('MSE for Neural Network:', mse_neural)\n",
    "print('MSE for Linear Regression :',mse_lr)\n",
    "print('')\n",
    "print('MAE for Neural Network:', mae_neural)\n",
    "print('MAE for Linear Regression:', mae_lr)"
   ]
  }
 ],
 "metadata": {
  "kernelspec": {
   "display_name": "Python 3 (ipykernel)",
   "language": "python",
   "name": "python3"
  },
  "language_info": {
   "codemirror_mode": {
    "name": "ipython",
    "version": 3
   },
   "file_extension": ".py",
   "mimetype": "text/x-python",
   "name": "python",
   "nbconvert_exporter": "python",
   "pygments_lexer": "ipython3",
   "version": "3.9.13"
  },
  "vscode": {
   "interpreter": {
    "hash": "8e284ee3255a07ad8bf76694974743c4c81cb57e7c969474d752d949b11d721e"
   }
  }
 },
 "nbformat": 4,
 "nbformat_minor": 2
}
